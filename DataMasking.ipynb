{
 "cells": [
  {
   "cell_type": "code",
   "execution_count": 11,
   "id": "36e6b558-4355-4157-89c4-40dc79ea0d0c",
   "metadata": {},
   "outputs": [],
   "source": [
    "import pandas as pd\n",
    "import scanpy as sc\n",
    "import os\n",
    "import copy\n",
    "import numpy as np\n",
    "from scipy import sparse\n"
   ]
  },
  {
   "cell_type": "code",
   "execution_count": 2,
   "id": "fdd3028e-d9c8-40bc-b026-73664df740c6",
   "metadata": {},
   "outputs": [],
   "source": [
    "def maskPerCol(data_train, masked_prob):\n",
    "\n",
    "    X_train = copy.deepcopy(data_train)\n",
    "    rows = []\n",
    "    cols = []\n",
    "    for col in range(data_train.shape[1]):\n",
    "        index_pair_train = np.where(data_train[:, col])\n",
    "        if index_pair_train[0].shape[0] <= 3:\n",
    "            continue\n",
    "        masking_idx_train = np.random.choice(index_pair_train[0].shape[0],\n",
    "                                             int(index_pair_train[0].shape[0] * masked_prob),\n",
    "                                             replace=False)\n",
    "        X_train[index_pair_train[0][masking_idx_train], [col] * masking_idx_train.shape[0]] = 0\n",
    "        for i in index_pair_train[0][masking_idx_train]:\n",
    "            rows.append(i)\n",
    "            cols.append(col)\n",
    "\n",
    "    return X_train, rows, cols"
   ]
  },
  {
   "cell_type": "code",
   "execution_count": 3,
   "id": "77917a5a-d02b-44d8-8d1e-d613f860f996",
   "metadata": {},
   "outputs": [
    {
     "data": {
      "text/plain": [
       "AnnData object with n_obs × n_vars = 2607 × 13708\n",
       "    obs: 'n_genes', 'n_genes_by_counts', 'total_counts', 'total_counts_mt', 'pct_counts_mt'\n",
       "    var: 'gene_ids', 'n_cells', 'mt', 'n_cells_by_counts', 'mean_counts', 'pct_dropout_by_counts', 'total_counts'"
      ]
     },
     "execution_count": 3,
     "metadata": {},
     "output_type": "execute_result"
    }
   ],
   "source": [
    "adata = sc.read_h5ad('./processed/data.h5ad')\n",
    "adata"
   ]
  },
  {
   "cell_type": "code",
   "execution_count": 4,
   "id": "88e538f4-3b62-4ced-a9ce-d0b0cbd43b59",
   "metadata": {},
   "outputs": [],
   "source": [
    "sc.pp.normalize_total(adata)\n",
    "adata.raw = adata"
   ]
  },
  {
   "cell_type": "code",
   "execution_count": 5,
   "id": "70a6e32f-dbc2-49bf-ac19-e76d177d22f9",
   "metadata": {},
   "outputs": [],
   "source": [
    "path = './masked'\n",
    "\n",
    "if not os.path.exists(path):\n",
    "    os.makedirs(path)"
   ]
  },
  {
   "cell_type": "code",
   "execution_count": 6,
   "id": "e583e6e7-e0aa-4c2e-895a-0a24e0446069",
   "metadata": {},
   "outputs": [
    {
     "data": {
      "text/plain": [
       "(2607, 13708)"
      ]
     },
     "execution_count": 6,
     "metadata": {},
     "output_type": "execute_result"
    }
   ],
   "source": [
    "trainData = adata.raw.X.A\n",
    "trainData.shape"
   ]
  },
  {
   "cell_type": "code",
   "execution_count": 7,
   "id": "b7e5d2c7-6ed1-4d5a-b6e6-fa49d25c1dc4",
   "metadata": {},
   "outputs": [],
   "source": [
    "masked, masking_row, masking_col = maskPerCol(trainData, 0.1)"
   ]
  },
  {
   "cell_type": "code",
   "execution_count": 9,
   "id": "dd3cda7d-2ee9-417c-b32d-12e25f4773a8",
   "metadata": {},
   "outputs": [],
   "source": [
    "pd.DataFrame(masked, index=adata.obs.index, columns=adata.var.index) \\\n",
    "    .T.to_csv(path + '/data_01.csv')"
   ]
  },
  {
   "cell_type": "code",
   "execution_count": 12,
   "id": "44a1d4a0-35bc-4f9c-88a6-072c2aca18cc",
   "metadata": {},
   "outputs": [],
   "source": [
    "adata.X = sparse.csr_matrix(masked)\n",
    "adata.write(path + '/data_01.h5ad')"
   ]
  },
  {
   "cell_type": "code",
   "execution_count": 13,
   "id": "e483abe5-d0a8-4adb-9002-dd28837f9da8",
   "metadata": {},
   "outputs": [],
   "source": [
    "maskIndex = sparse.coo_matrix(([1] * len(masking_col), (masking_row, masking_col)))\n",
    "\n",
    "sparse.save_npz(path + '/data_maskIndex_01.csv', maskIndex)"
   ]
  },
  {
   "cell_type": "raw",
   "id": "7292a1ef-8dd8-40ca-917a-cb71eb16e3b5",
   "metadata": {},
   "source": [
    "Understanding The maskpercol function line by line"
   ]
  },
  {
   "cell_type": "code",
   "execution_count": 8,
   "id": "94bfffb0-42c5-4303-a2fe-ab50d7410808",
   "metadata": {},
   "outputs": [
    {
     "name": "stdout",
     "output_type": "stream",
     "text": [
      "NonZeroIndex\n",
      "[ 425  989 1076 1130 1319 1391 1572 1739 1753]\n",
      "size:  9\n",
      "len:  0\n",
      "masking_idx_train\n",
      "[]\n",
      "[]\n",
      "[]\n",
      "==================================================\n",
      "NonZeroIndex\n",
      "[ 102  399  437  787  858 1240 1371 1391 1436 1465 1548 2063 2230 2359\n",
      " 2530 2556 2569 2594]\n",
      "size:  18\n",
      "len:  1\n",
      "masking_idx_train\n",
      "[2]\n",
      "[437]\n",
      "[4]\n",
      "==================================================\n",
      "NonZeroIndex\n",
      "[  11   20   33   41   42   55   56   58   61   70  114  120  129  141\n",
      "  143  158  161  162  169  184  187  194  205  209  216  217  225  234\n",
      "  252  254  269  275  279  294  295  311  320  321  327  328  338  341\n",
      "  347  356  380  403  420  426  449  450  456  471  474  518  522  530\n",
      "  532  535  538  560  574  595  598  602  623  625  632  637  646  647\n",
      "  648  660  669  689  691  721  737  745  754  758  764  768  805  807\n",
      "  809  848  853  856  888  900  901  917  927  931  943  945  955  964\n",
      "  970 1025 1040 1074 1103 1112 1117 1132 1147 1165 1187 1192 1193 1230\n",
      " 1234 1259 1260 1264 1278 1290 1293 1294 1298 1316 1342 1350 1357 1366\n",
      " 1369 1375 1378 1389 1406 1426 1437 1445 1453 1460 1465 1466 1475 1482\n",
      " 1491 1499 1507 1521 1528 1555 1569 1614 1616 1620 1621 1630 1634 1636\n",
      " 1640 1641 1652 1653 1655 1662 1681 1697 1709 1719 1736 1739 1740 1759\n",
      " 1763 1767 1779 1780 1803 1817 1821 1825 1841 1866 1867 1869 1886 1904\n",
      " 1917 1920 1944 1950 1980 1984 1989 1992 2001 2005 2006 2015 2035 2037\n",
      " 2039 2050 2051 2063 2071 2083 2086 2094 2108 2112 2123 2143 2144 2166\n",
      " 2180 2234 2238 2247 2249 2258 2263 2269 2282 2301 2328 2330 2331 2336\n",
      " 2341 2355 2359 2374 2392 2399 2405 2423 2441 2506 2517 2519 2526 2532\n",
      " 2533 2535 2537 2541 2563 2566 2567 2572 2575 2580 2586 2594]\n",
      "size:  250\n",
      "len:  25\n",
      "masking_idx_train\n",
      "[161  25 140  38  95 114 205  49 189  33 197 210  86 117 221  36  78  72\n",
      "   8 110 177  46 137 219 188]\n",
      "[1697  217 1491  327  945 1260 2112  450 1992  294 2050 2180  853 1290\n",
      " 2330  320  754  669   61 1193 1866  420 1466 2301 1989]\n",
      "[5, 5, 5, 5, 5, 5, 5, 5, 5, 5, 5, 5, 5, 5, 5, 5, 5, 5, 5, 5, 5, 5, 5, 5, 5]\n",
      "==================================================\n"
     ]
    }
   ],
   "source": [
    "data_train = trainData\n",
    "masked_prob = 0.1\n",
    "X_train = copy.deepcopy(data_train)\n",
    "rows = []\n",
    "cols = []\n",
    "i=0\n",
    "for col in range(data_train.shape[1]):\n",
    "    i += 1\n",
    "    NonZeroIndex = np.where(data_train[:, col])\n",
    "    if NonZeroIndex[0].shape[0]<=3:\n",
    "        continue\n",
    "\n",
    "    print(\"NonZeroIndex\")\n",
    "    print(NonZeroIndex[0])\n",
    "    print(\"size: \",NonZeroIndex[0].shape[0])\n",
    "    print(\"len: \", int(NonZeroIndex[0].shape[0] * masked_prob))\n",
    "    print(\"masking_idx_train\")\n",
    "    \n",
    "    NonZeroIndexRandomSelection = np.random.choice(NonZeroIndex[0].shape[0],\n",
    "                                         int(NonZeroIndex[0].shape[0] * masked_prob),\n",
    "                                         replace=False)\n",
    "    print(NonZeroIndexRandomSelection)\n",
    "\n",
    "    print(NonZeroIndex[0][NonZeroIndexRandomSelection])\n",
    "    print([col] * NonZeroIndexRandomSelection.shape[0])\n",
    "    print(\"==================================================\")\n",
    "\n",
    "    \n",
    "    if i>5:\n",
    "        break\n",
    " "
   ]
  },
  {
   "cell_type": "code",
   "execution_count": null,
   "id": "cb8a2b0f-a2fd-4b05-947d-ee717121385e",
   "metadata": {},
   "outputs": [],
   "source": []
  },
  {
   "cell_type": "code",
   "execution_count": null,
   "id": "b8e767f4-ebfc-4104-9b50-d12abfe869ae",
   "metadata": {},
   "outputs": [],
   "source": []
  }
 ],
 "metadata": {
  "kernelspec": {
   "display_name": "Python 3 (ipykernel)",
   "language": "python",
   "name": "python3"
  },
  "language_info": {
   "codemirror_mode": {
    "name": "ipython",
    "version": 3
   },
   "file_extension": ".py",
   "mimetype": "text/x-python",
   "name": "python",
   "nbconvert_exporter": "python",
   "pygments_lexer": "ipython3",
   "version": "3.12.4"
  }
 },
 "nbformat": 4,
 "nbformat_minor": 5
}
